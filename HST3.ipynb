{
 "cells": [
  {
   "cell_type": "code",
   "execution_count": 1,
   "metadata": {},
   "outputs": [],
   "source": [
    "import pandas as pd"
   ]
  },
  {
   "cell_type": "code",
   "execution_count": 3,
   "metadata": {},
   "outputs": [
    {
     "name": "stdout",
     "output_type": "stream",
     "text": [
      "                ID       Tamaño         Peso      Dulzura      Textura  \\\n",
      "count  4000.000000  4000.000000  4000.000000  4000.000000  4000.000000   \n",
      "mean   1999.500000    -0.503015    -0.989547    -0.470479     0.985478   \n",
      "std    1154.844867     1.928059     1.602507     1.943441     1.402757   \n",
      "min       0.000000    -7.151703    -7.149848    -6.894485    -6.055058   \n",
      "25%     999.750000    -1.816765    -2.011770    -1.738425     0.062764   \n",
      "50%    1999.500000    -0.513703    -0.984736    -0.504758     0.998249   \n",
      "75%    2999.250000     0.805526     0.030976     0.801922     1.894234   \n",
      "max    3999.000000     6.406367     5.790714     6.374916     7.619852   \n",
      "\n",
      "           Humedad      Madurez  \n",
      "count  4000.000000  4000.000000  \n",
      "mean      0.512118     0.498277  \n",
      "std       1.930286     1.874427  \n",
      "min      -5.961897    -5.864599  \n",
      "25%      -0.801286    -0.771677  \n",
      "50%       0.534219     0.503445  \n",
      "75%       1.835976     1.766212  \n",
      "max       7.364403     7.237837  \n"
     ]
    }
   ],
   "source": [
    "# Cargar los datos desde el archivo CSV\n",
    "datos = pd.read_csv('manzanas.csv')\n",
    "\n",
    "# Obtener un resumen estadístico básico\n",
    "resumen = datos.describe()\n",
    "print(resumen)"
   ]
  },
  {
   "cell_type": "code",
   "execution_count": 4,
   "metadata": {},
   "outputs": [
    {
     "name": "stdout",
     "output_type": "stream",
     "text": [
      "<class 'pandas.core.frame.DataFrame'>\n",
      "RangeIndex: 4001 entries, 0 to 4000\n",
      "Data columns (total 9 columns):\n",
      " #   Column   Non-Null Count  Dtype  \n",
      "---  ------   --------------  -----  \n",
      " 0   ID       4000 non-null   float64\n",
      " 1   Tamaño   4000 non-null   float64\n",
      " 2   Peso     4000 non-null   float64\n",
      " 3   Dulzura  4000 non-null   float64\n",
      " 4   Textura  4000 non-null   float64\n",
      " 5   Humedad  4000 non-null   float64\n",
      " 6   Madurez  4000 non-null   float64\n",
      " 7   Acidez   4001 non-null   object \n",
      " 8   Calidad  4000 non-null   object \n",
      "dtypes: float64(7), object(2)\n",
      "memory usage: 281.4+ KB\n",
      "None\n"
     ]
    }
   ],
   "source": [
    "# Obtener información general del DataFrame\n",
    "info = datos.info()\n",
    "print(info)"
   ]
  },
  {
   "cell_type": "code",
   "execution_count": 5,
   "metadata": {},
   "outputs": [
    {
     "name": "stdout",
     "output_type": "stream",
     "text": [
      "Tipos de datos de las variables:\n",
      "ID: float64\n",
      "Tamaño: float64\n",
      "Peso: float64\n",
      "Dulzura: float64\n",
      "Textura: float64\n",
      "Humedad: float64\n",
      "Madurez: float64\n",
      "Acidez: object\n",
      "Calidad: object\n",
      "\n",
      "Tipos de variables:\n",
      "ID: Cuantitativa continua\n",
      "Tamaño: Cuantitativa continua\n",
      "Peso: Cuantitativa continua\n",
      "Dulzura: Cuantitativa continua\n",
      "Textura: Cuantitativa continua\n",
      "Humedad: Cuantitativa continua\n",
      "Madurez: Cuantitativa continua\n",
      "Acidez: Cualitativa o categórica\n",
      "Calidad: Cualitativa o categórica\n"
     ]
    }
   ],
   "source": [
    "tipos_datos = datos.dtypes\n",
    "print(\"Tipos de datos de las variables:\")\n",
    "for columna, tipo in tipos_datos.items():\n",
    "    print(f\"{columna}: {tipo}\")\n",
    "\n",
    "print(\"\\nTipos de variables:\")\n",
    "\n",
    "for columna, tipo in tipos_datos.items():\n",
    "    if tipo == object:\n",
    "        tipo_variable = \"Cualitativa o categórica\"\n",
    "    elif tipo in [int, float]:\n",
    "        tipo_variable = \"Cuantitativa continua\"\n",
    "    else:\n",
    "        tipo_variable = \"Cuantitativa discreta\"\n",
    "    print(f\"{columna}: {tipo_variable}\")"
   ]
  }
 ],
 "metadata": {
  "kernelspec": {
   "display_name": "Python 3",
   "language": "python",
   "name": "python3"
  },
  "language_info": {
   "codemirror_mode": {
    "name": "ipython",
    "version": 3
   },
   "file_extension": ".py",
   "mimetype": "text/x-python",
   "name": "python",
   "nbconvert_exporter": "python",
   "pygments_lexer": "ipython3",
   "version": "3.11.7"
  }
 },
 "nbformat": 4,
 "nbformat_minor": 2
}
